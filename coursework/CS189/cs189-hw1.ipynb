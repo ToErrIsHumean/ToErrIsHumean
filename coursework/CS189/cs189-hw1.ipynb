{
 "cells": [
  {
   "cell_type": "markdown",
   "metadata": {},
   "source": [
    "CS189/289A Introduction to Machine Learning\n",
    "Spring 2023 - UCB - Shewchuk\n",
    "\n",
    "I don't own this material; I am auditing the course using the material publically available on the course website here: https://people.eecs.berkeley.edu/~jrs/189/\n",
    "\n",
    "To the best of my knowledge, all work here is my own except where noted."
   ]
  },
  {
   "cell_type": "markdown",
   "metadata": {
    "tags": [
     "Title"
    ]
   },
   "source": [
    "HW1 Data, SVMs, Hyperparameter Tuning, K-Fold CV, Kaggle, Hard-Margin SVMs"
   ]
  },
  {
   "cell_type": "code",
   "execution_count": 51,
   "metadata": {},
   "outputs": [],
   "source": [
    "#libraries\n",
    "import numpy as np\n",
    "import sys\n",
    "import matplotlib.pyplot as plt\n",
    "from sklearn import svm\n",
    "from sklearn.metrics import accuracy_score\n",
    "from scipy import io"
   ]
  },
  {
   "cell_type": "code",
   "execution_count": 7,
   "metadata": {},
   "outputs": [
    {
     "name": "stdout",
     "output_type": "stream",
     "text": [
      "\n",
      "loaded mnist data!\n",
      "test_data (10000, 1, 28, 28)\n",
      "training_data (60000, 1, 28, 28)\n",
      "training_labels (60000,)\n",
      "\n",
      "loaded spam data!\n",
      "test_data (1000, 32)\n",
      "training_data (4172, 32)\n",
      "training_labels (4172,)\n",
      "\n",
      "loaded cifar10 data!\n",
      "test_data (10000, 3072)\n",
      "training_data (50000, 3072)\n",
      "training_labels (50000,)\n"
     ]
    }
   ],
   "source": [
    "# This file is in scripts/load.py\n",
    "import sys\n",
    "if sys.version_info[0] < 3:\n",
    "    raise Exception(\"Python 3 not detected.\")\n",
    "\n",
    "for data_name in [\"mnist\", \"spam\", \"cifar10\"]:\n",
    "    data = np.load(f\"C:/ML_learning/berkeley_cs189_introml/hw/hw1/data/{data_name}-data.npz\") #running locally, path needs to be edited otherwise\n",
    "    print(\"\\nloaded %s data!\" % data_name)\n",
    "    fields = \"test_data\", \"training_data\", \"training_labels\"\n",
    "    for field in fields:\n",
    "        print(field, data[field].shape)"
   ]
  },
  {
   "cell_type": "markdown",
   "metadata": {
    "tags": [
     "Problem 2"
    ]
   },
   "source": [
    "2. Data Partitioning\n",
    "\n",
    "Rarely will you receive “training” data and “validation” data; usually you will have to partition available labeled data yourself. In this question, you will shuffle and partition each of the datasets in the assignment. Shuffling prior to splitting crucially ensures that all classes are represented in your partitions. For this question, please do not use any functions available in sklearn.\n",
    "(a) For the MNIST dataset, write code that sets aside 10,000 training images as a validation set.\n",
    "(b) For the spam dataset, write code that sets aside 20% of the training data as a validation set.\n",
    "(c) For the CIFAR-10 dataset, write code that sets aside 5,000 training images as a validation set."
   ]
  },
  {
   "cell_type": "code",
   "execution_count": 35,
   "metadata": {},
   "outputs": [],
   "source": [
    "#data is provided as .npz files\n",
    "#use 'with' to handle file opening and closing\n",
    "\n",
    "#data is as Python dictionary, with three fields:\n",
    "#training_data (rows: samples, columns: features)\n",
    "#training_labels (rows: samples, column: label)\n",
    "#test_data (rows:samples, columns: features)\n",
    "\n",
    "def loadnpz(filename):\n",
    "    path = 'C:/ML_learning/berkeley_cs189_introml/hw/hw1/data/'\n",
    "    with np.load(path+filename) as data: \n",
    "        test = data[\"test_data\"]\n",
    "        training = data[\"training_data\"]\n",
    "        labels = data[\"training_labels\"]\n",
    "        #print (test.shape, training.shape, labels.shape)\n",
    "\n",
    "    return test,training,labels"
   ]
  },
  {
   "cell_type": "markdown",
   "metadata": {},
   "source": [
    "For MNIST, we need to shuffle and set 10,000 training images as validation set (without using sklearn functions)"
   ]
  },
  {
   "cell_type": "code",
   "execution_count": 41,
   "metadata": {},
   "outputs": [],
   "source": [
    "def shuffle_validation_num(training_data, training_labels, n):\n",
    "    # randomly select n data entries and returns training, training label, validation, validation label\n",
    "    # @in: data, labels, number to set aside\n",
    "    # @out: training_x, training_y, validation_x, validation_y\n",
    "    rng = np.random.default_rng() #can use seed= for reproducible results\n",
    "    assert(n>=0)\n",
    "\n",
    "    indexes = np.arange(training_labels.shape[0])\n",
    "    rng.shuffle(indexes)\n",
    "    td = training_data[indexes[n:]]\n",
    "    vd = training_data[indexes[:n]]\n",
    "    tl = training_labels[indexes[n:]]\n",
    "    vl = training_labels[indexes[:n]]\n",
    "\n",
    "    return td,tl,vd,vl\n",
    "\n",
    "def shuffle_validation_pct(training_data, training_labels, pct):\n",
    "    # randomly select n data entries and returns training, training label, validation, validation label\n",
    "    # @in: data, labels, percent to set aside\n",
    "    # @out: training_x, training_y, validation_x, validation_y\n",
    "    rng = np.random.default_rng() #can use seed= for reproducible results\n",
    "    assert(pct>=0 and pct<=1)\n",
    "\n",
    "    n = training_labels.shape[0]\n",
    "    validation_n = int(n * pct // 1) #round down\n",
    "    indexes = np.arange(n)\n",
    "    rng.shuffle(indexes)\n",
    "    td = training_data[indexes[validation_n:]]\n",
    "    vd = training_data[indexes[:validation_n]]\n",
    "    tl = training_labels[indexes[validation_n:]]\n",
    "    vl = training_labels[indexes[:validation_n]]\n",
    "\n",
    "    return td,tl,vd,vl"
   ]
  },
  {
   "cell_type": "code",
   "execution_count": 68,
   "metadata": {},
   "outputs": [
    {
     "name": "stdout",
     "output_type": "stream",
     "text": [
      "(50000, 1, 28, 28) (50000,) (10000, 1, 28, 28) (10000,)\n"
     ]
    }
   ],
   "source": [
    "## 2A MNIST\n",
    "mn_te,mn_tr,mn_label = loadnpz(\"mnist-data.npz\")\n",
    "mn_td,mn_tl,mn_vd,mn_vl = shuffle_validation_num(mn_tr,mn_label,10000)\n",
    "mn_test = mn_te\n",
    "print(mn_td.shape,mn_tl.shape,mn_vd.shape,mn_vl.shape) #should be (50000, 1, 28, 28) (50000,) (10000, 1, 28, 28) (10000,)"
   ]
  },
  {
   "cell_type": "code",
   "execution_count": 69,
   "metadata": {},
   "outputs": [
    {
     "name": "stdout",
     "output_type": "stream",
     "text": [
      "(3338, 32) (3338,) (834, 32) (834,)\n"
     ]
    }
   ],
   "source": [
    "## 2B\n",
    "sp_te,sp_tr,sp_label = loadnpz(\"spam-data.npz\")\n",
    "sp_td,sp_tl,sp_vd,sp_vl = shuffle_validation_pct(sp_tr,sp_label,0.2)\n",
    "sp_test = sp_te\n",
    "print(sp_td.shape,sp_tl.shape,sp_vd.shape,sp_vl.shape) #(3338, 32) (3338,) (834, 32) (834,)"
   ]
  },
  {
   "cell_type": "code",
   "execution_count": 70,
   "metadata": {},
   "outputs": [
    {
     "name": "stdout",
     "output_type": "stream",
     "text": [
      "(45000, 3072) (45000,) (5000, 3072) (5000,)\n"
     ]
    }
   ],
   "source": [
    "## 2C CIFAR\n",
    "ci_te,ci_tr,ci_label = loadnpz(\"cifar10-data.npz\")\n",
    "ci_td,ci_tl,ci_vd,ci_vl = shuffle_validation_num(ci_tr,ci_label,5000)\n",
    "ci_test = ci_te\n",
    "print(ci_td.shape,ci_tl.shape,ci_vd.shape,ci_vl.shape) #should be (45000, 3072) (45000,) (5000, 3072) (5000,)"
   ]
  },
  {
   "cell_type": "markdown",
   "metadata": {},
   "source": [
    "All data shuffled!  On to the next problem."
   ]
  },
  {
   "cell_type": "markdown",
   "metadata": {
    "tags": [
     "problem3"
    ]
   },
   "source": [
    "3 Support Vector Machines: Coding\n",
    "We will use linear Support Vector Machines to classify our datasets. For images, we will use the\n",
    "simplest of features for classification: raw pixel brightness values. In other words, our feature\n",
    "vector for an image will be a row vector with all the pixel values concatenated in a row major (or\n",
    "column major) order.\n",
    "\n",
    "You may use sklearn only for the SVM model and the sklearn.metrics.accuracy_score\n",
    "function. Everything else (generating plots) must be done without the use of sklearn\n",
    "\n",
    "Deliverable: For this question, you should include three plots showing number of examples versus\n",
    "training and validation accuracy for each of the datasets. Additionally, be sure to include your code\n",
    "in the “Code Appendix” portion of your write-up."
   ]
  },
  {
   "cell_type": "code",
   "execution_count": 59,
   "metadata": {},
   "outputs": [],
   "source": [
    "def SVM_validate_loop(model,X,Y,params):\n",
    "    tr_acc = []\n",
    "    va_acc = []\n",
    "    for param in params:\n",
    "        td, tl, vd, vl = shuffle_validation_num(X, Y, param)\n",
    "        model.fit(td,tl) #fit\n",
    "        yhat = model.predict(td)\n",
    "        tr_acc.append(accuracy_score(yhat,tl)) #training accuracy\n",
    "        yhat = model.predict(vd)\n",
    "        va_acc.append(accuracy_score(yhat,vl)) #validation accuracy\n",
    "    return tr_acc, va_acc\n"
   ]
  },
  {
   "cell_type": "code",
   "execution_count": 92,
   "metadata": {},
   "outputs": [],
   "source": [
    "mnist_parameters2 = [100,200,500,1000,2000,5000,10000]\n",
    "spam_parameters2 = [100,200,500,1000,2000,4162]\n",
    "cifar_parameters2 = [100,200,500,1000,2000,5000]\n",
    "plot_steps = [1,2,3,4,5,6,7]"
   ]
  },
  {
   "cell_type": "code",
   "execution_count": 71,
   "metadata": {},
   "outputs": [
    {
     "name": "stdout",
     "output_type": "stream",
     "text": [
      "(60000, 1, 28, 28)\n",
      "(60000, 784)\n"
     ]
    },
    {
     "name": "stderr",
     "output_type": "stream",
     "text": [
      "c:\\Users\\zacha\\anaconda3\\Lib\\site-packages\\sklearn\\svm\\_classes.py:32: FutureWarning: The default value of `dual` will change from `True` to `'auto'` in 1.5. Set the value of `dual` explicitly to suppress the warning.\n",
      "  warnings.warn(\n",
      "c:\\Users\\zacha\\anaconda3\\Lib\\site-packages\\sklearn\\svm\\_classes.py:32: FutureWarning: The default value of `dual` will change from `True` to `'auto'` in 1.5. Set the value of `dual` explicitly to suppress the warning.\n",
      "  warnings.warn(\n",
      "c:\\Users\\zacha\\anaconda3\\Lib\\site-packages\\sklearn\\svm\\_classes.py:32: FutureWarning: The default value of `dual` will change from `True` to `'auto'` in 1.5. Set the value of `dual` explicitly to suppress the warning.\n",
      "  warnings.warn(\n",
      "c:\\Users\\zacha\\anaconda3\\Lib\\site-packages\\sklearn\\svm\\_classes.py:32: FutureWarning: The default value of `dual` will change from `True` to `'auto'` in 1.5. Set the value of `dual` explicitly to suppress the warning.\n",
      "  warnings.warn(\n",
      "c:\\Users\\zacha\\anaconda3\\Lib\\site-packages\\sklearn\\svm\\_classes.py:32: FutureWarning: The default value of `dual` will change from `True` to `'auto'` in 1.5. Set the value of `dual` explicitly to suppress the warning.\n",
      "  warnings.warn(\n",
      "c:\\Users\\zacha\\anaconda3\\Lib\\site-packages\\sklearn\\svm\\_classes.py:32: FutureWarning: The default value of `dual` will change from `True` to `'auto'` in 1.5. Set the value of `dual` explicitly to suppress the warning.\n",
      "  warnings.warn(\n",
      "c:\\Users\\zacha\\anaconda3\\Lib\\site-packages\\sklearn\\svm\\_classes.py:32: FutureWarning: The default value of `dual` will change from `True` to `'auto'` in 1.5. Set the value of `dual` explicitly to suppress the warning.\n",
      "  warnings.warn(\n"
     ]
    },
    {
     "name": "stdout",
     "output_type": "stream",
     "text": [
      "100 0.18 0.1127212020033389\n",
      "200 0.135 0.10130434782608695\n",
      "500 0.384 0.32026890756302523\n",
      "1000 0.641 0.6330338983050847\n",
      "2000 0.663 0.653448275862069\n",
      "5000 0.7554 0.7444181818181819\n",
      "10000 0.7774 0.77892\n"
     ]
    }
   ],
   "source": [
    "#3A MNIST\n",
    "mnist_parameters = [59900,59800,59500,59000,58000,55000,50000]\n",
    "\n",
    "mnist_classify = svm.LinearSVC()\n",
    "mn_tr_raw = mn_tr / 255. #\n",
    "print(mn_tr_raw.shape)\n",
    "mn_tr_raw = np.reshape(mn_tr_raw,(60000,784))\n",
    "print(mn_tr_raw.shape)\n",
    "mnist_tr_acc, mnist_va_acc = SVM_validate_loop(mnist_classify,mn_tr_raw,mn_label,mnist_parameters)\n",
    "for i in range(len(mnist_parameters)):\n",
    "    print(60000-mnist_parameters[i],mnist_tr_acc[i],mnist_va_acc[i])"
   ]
  },
  {
   "cell_type": "code",
   "execution_count": 87,
   "metadata": {},
   "outputs": [
    {
     "name": "stdout",
     "output_type": "stream",
     "text": [
      "100 0.73 0.7333005893909627\n",
      "200 0.835 0.769889224572004\n",
      "500 0.824 0.7998366013071896\n",
      "1000 0.807 0.8020176544766708\n",
      "2000 0.815 0.8116942909760589\n",
      "4162 0.8099471407976934 0.9\n"
     ]
    },
    {
     "name": "stderr",
     "output_type": "stream",
     "text": [
      "c:\\Users\\zacha\\anaconda3\\Lib\\site-packages\\sklearn\\svm\\_classes.py:32: FutureWarning: The default value of `dual` will change from `True` to `'auto'` in 1.5. Set the value of `dual` explicitly to suppress the warning.\n",
      "  warnings.warn(\n",
      "c:\\Users\\zacha\\anaconda3\\Lib\\site-packages\\sklearn\\svm\\_base.py:1242: ConvergenceWarning: Liblinear failed to converge, increase the number of iterations.\n",
      "  warnings.warn(\n",
      "c:\\Users\\zacha\\anaconda3\\Lib\\site-packages\\sklearn\\svm\\_classes.py:32: FutureWarning: The default value of `dual` will change from `True` to `'auto'` in 1.5. Set the value of `dual` explicitly to suppress the warning.\n",
      "  warnings.warn(\n",
      "c:\\Users\\zacha\\anaconda3\\Lib\\site-packages\\sklearn\\svm\\_base.py:1242: ConvergenceWarning: Liblinear failed to converge, increase the number of iterations.\n",
      "  warnings.warn(\n",
      "c:\\Users\\zacha\\anaconda3\\Lib\\site-packages\\sklearn\\svm\\_classes.py:32: FutureWarning: The default value of `dual` will change from `True` to `'auto'` in 1.5. Set the value of `dual` explicitly to suppress the warning.\n",
      "  warnings.warn(\n",
      "c:\\Users\\zacha\\anaconda3\\Lib\\site-packages\\sklearn\\svm\\_base.py:1242: ConvergenceWarning: Liblinear failed to converge, increase the number of iterations.\n",
      "  warnings.warn(\n",
      "c:\\Users\\zacha\\anaconda3\\Lib\\site-packages\\sklearn\\svm\\_classes.py:32: FutureWarning: The default value of `dual` will change from `True` to `'auto'` in 1.5. Set the value of `dual` explicitly to suppress the warning.\n",
      "  warnings.warn(\n",
      "c:\\Users\\zacha\\anaconda3\\Lib\\site-packages\\sklearn\\svm\\_base.py:1242: ConvergenceWarning: Liblinear failed to converge, increase the number of iterations.\n",
      "  warnings.warn(\n",
      "c:\\Users\\zacha\\anaconda3\\Lib\\site-packages\\sklearn\\svm\\_classes.py:32: FutureWarning: The default value of `dual` will change from `True` to `'auto'` in 1.5. Set the value of `dual` explicitly to suppress the warning.\n",
      "  warnings.warn(\n",
      "c:\\Users\\zacha\\anaconda3\\Lib\\site-packages\\sklearn\\svm\\_base.py:1242: ConvergenceWarning: Liblinear failed to converge, increase the number of iterations.\n",
      "  warnings.warn(\n",
      "c:\\Users\\zacha\\anaconda3\\Lib\\site-packages\\sklearn\\svm\\_classes.py:32: FutureWarning: The default value of `dual` will change from `True` to `'auto'` in 1.5. Set the value of `dual` explicitly to suppress the warning.\n",
      "  warnings.warn(\n",
      "c:\\Users\\zacha\\anaconda3\\Lib\\site-packages\\sklearn\\svm\\_base.py:1242: ConvergenceWarning: Liblinear failed to converge, increase the number of iterations.\n",
      "  warnings.warn(\n"
     ]
    }
   ],
   "source": [
    "#3B SPAM\n",
    "spam_parameters = [4072,3972,3672,3172,2172,10] #size of validation set, not training set!\n",
    "\n",
    "spam_classify = svm.LinearSVC()\n",
    "\n",
    "spam_tr_acc, spam_va_acc = SVM_validate_loop(spam_classify,sp_tr,sp_label,spam_parameters)\n",
    "for i in range(len(spam_parameters)):\n",
    "    print(4172-spam_parameters[i],spam_tr_acc[i],spam_va_acc[i])"
   ]
  },
  {
   "cell_type": "code",
   "execution_count": 88,
   "metadata": {},
   "outputs": [
    {
     "name": "stderr",
     "output_type": "stream",
     "text": [
      "c:\\Users\\zacha\\anaconda3\\Lib\\site-packages\\sklearn\\svm\\_classes.py:32: FutureWarning: The default value of `dual` will change from `True` to `'auto'` in 1.5. Set the value of `dual` explicitly to suppress the warning.\n",
      "  warnings.warn(\n",
      "c:\\Users\\zacha\\anaconda3\\Lib\\site-packages\\sklearn\\svm\\_base.py:1242: ConvergenceWarning: Liblinear failed to converge, increase the number of iterations.\n",
      "  warnings.warn(\n",
      "c:\\Users\\zacha\\anaconda3\\Lib\\site-packages\\sklearn\\svm\\_classes.py:32: FutureWarning: The default value of `dual` will change from `True` to `'auto'` in 1.5. Set the value of `dual` explicitly to suppress the warning.\n",
      "  warnings.warn(\n",
      "c:\\Users\\zacha\\anaconda3\\Lib\\site-packages\\sklearn\\svm\\_base.py:1242: ConvergenceWarning: Liblinear failed to converge, increase the number of iterations.\n",
      "  warnings.warn(\n",
      "c:\\Users\\zacha\\anaconda3\\Lib\\site-packages\\sklearn\\svm\\_classes.py:32: FutureWarning: The default value of `dual` will change from `True` to `'auto'` in 1.5. Set the value of `dual` explicitly to suppress the warning.\n",
      "  warnings.warn(\n",
      "c:\\Users\\zacha\\anaconda3\\Lib\\site-packages\\sklearn\\svm\\_base.py:1242: ConvergenceWarning: Liblinear failed to converge, increase the number of iterations.\n",
      "  warnings.warn(\n",
      "c:\\Users\\zacha\\anaconda3\\Lib\\site-packages\\sklearn\\svm\\_classes.py:32: FutureWarning: The default value of `dual` will change from `True` to `'auto'` in 1.5. Set the value of `dual` explicitly to suppress the warning.\n",
      "  warnings.warn(\n",
      "c:\\Users\\zacha\\anaconda3\\Lib\\site-packages\\sklearn\\svm\\_base.py:1242: ConvergenceWarning: Liblinear failed to converge, increase the number of iterations.\n",
      "  warnings.warn(\n",
      "c:\\Users\\zacha\\anaconda3\\Lib\\site-packages\\sklearn\\svm\\_classes.py:32: FutureWarning: The default value of `dual` will change from `True` to `'auto'` in 1.5. Set the value of `dual` explicitly to suppress the warning.\n",
      "  warnings.warn(\n",
      "c:\\Users\\zacha\\anaconda3\\Lib\\site-packages\\sklearn\\svm\\_base.py:1242: ConvergenceWarning: Liblinear failed to converge, increase the number of iterations.\n",
      "  warnings.warn(\n",
      "c:\\Users\\zacha\\anaconda3\\Lib\\site-packages\\sklearn\\svm\\_classes.py:32: FutureWarning: The default value of `dual` will change from `True` to `'auto'` in 1.5. Set the value of `dual` explicitly to suppress the warning.\n",
      "  warnings.warn(\n",
      "c:\\Users\\zacha\\anaconda3\\Lib\\site-packages\\sklearn\\svm\\_base.py:1242: ConvergenceWarning: Liblinear failed to converge, increase the number of iterations.\n",
      "  warnings.warn(\n"
     ]
    },
    {
     "name": "stdout",
     "output_type": "stream",
     "text": [
      "100 1.0 0.22226452905811622\n",
      "200 1.0 0.22734939759036144\n",
      "500 1.0 0.2279191919191919\n",
      "1000 0.999 0.2386938775510204\n",
      "2000 0.995 0.239875\n",
      "5000 0.7682 0.23735555555555554\n"
     ]
    }
   ],
   "source": [
    "#3C CIFAR\n",
    "cifar_parameters = [49900,49800,49500,49000,48000,45000] #size of validation set, not training set!\n",
    "\n",
    "cifar_classify = svm.LinearSVC()\n",
    "\n",
    "cifar_tr_acc, cifar_va_acc = SVM_validate_loop(cifar_classify,ci_tr,ci_label,cifar_parameters)\n",
    "for i in range(len(cifar_parameters)):\n",
    "    print(50000-cifar_parameters[i],cifar_tr_acc[i],cifar_va_acc[i])"
   ]
  },
  {
   "cell_type": "markdown",
   "metadata": {},
   "source": [
    "We now have our results; time to plot them."
   ]
  },
  {
   "cell_type": "code",
   "execution_count": 101,
   "metadata": {},
   "outputs": [
    {
     "data": {
      "image/png": "[encoded data removed]",
      "text/plain": [
       "<Figure size 640x480 with 1 Axes>"
      ]
     },
     "metadata": {},
     "output_type": "display_data"
    }
   ],
   "source": [
    "plt.plot(mnist_parameters2,mnist_tr_acc, color='lightskyblue', label=\"MNIST Training\")\n",
    "plt.plot(mnist_parameters2,mnist_va_acc, color='blue', label=\"MNIST Validation\")\n",
    "plt.plot(spam_parameters2,spam_tr_acc, color = 'lightcoral', label=\"Spam Training\")\n",
    "plt.plot(spam_parameters2,spam_va_acc, color = 'red', label=\"Spam Validation\")\n",
    "plt.plot(cifar_parameters2,cifar_tr_acc, color = 'wheat', label = \"CIFAR Training\")\n",
    "plt.plot(cifar_parameters2,cifar_va_acc, color = 'darkorange', label = \"CIFAR Validation\")\n",
    "plt.xlabel(\"Size of training data\")\n",
    "plt.ylabel(\"Accuracy\")\n",
    "plt.legend(loc='right')\n",
    "plt.xscale('log')\n",
    "plt.show()"
   ]
  },
  {
   "attachments": {
    "image.png": {
     "image/png": "[encoded data removed]"
    }
   },
   "cell_type": "markdown",
   "metadata": {},
   "source": [
    "![image.png](attachment:image.png)\n",
    "\n",
    "We see here the results of fitting a LinearSVM model to the three classification problems.  Overall, MNIST and Spam did fairly well, reaching 80%+ accuracy on the validation data.  But CIFAR is less than 25%, suggesting that LinearSVM is not capable of classifying this data.\n",
    "\n",
    "Other results indicate that Spam requires little training data to be useful.  In fact, there seems to be some slight overfitting as the training sample increases.  In contrast, MNIST doesn't appear to be overfitting, so in the next HW problem it will be interesting to see whether performance improves if we decrease the regularization.  Important to note, however, that there is a lot of randomness in selecting the sample, so the improvements in MNIST Training and Validation could be just due to lucky sampling."
   ]
  },
  {
   "cell_type": "markdown",
   "metadata": {},
   "source": [
    "4 Hyperparameter Tuning\n",
    "In the previous problem, you learned parameters for a model that classifies the data. Many classifiers also have hyperparameters that you can tune to influence the parameters. In this problem,\n",
    "we’ll determine good values for the regularization parameter C in the soft-margin SVM algorithm.\n",
    "\n",
    "The use of automatic hyperparameter optimization libraries is prohibited for this part of the\n",
    "homework.\n",
    "\n",
    "Deliverable: For the MNIST dataset, find the best C value. In your report, list at least 8 C values\n",
    "you tried, the corresponding accuracies, and the best C value. You should try a geometric sequence\n",
    "of C values (not an arithmetic sequence). As in the previous problem, for performance reasons,\n",
    "you are required to train with at least 10,000 training examples. You can train on more if you like,\n",
    "but it is not required. Again, reference any code you used to perform a hyperparameter sweep in\n",
    "the code appendix."
   ]
  },
  {
   "cell_type": "code",
   "execution_count": 110,
   "metadata": {},
   "outputs": [],
   "source": [
    "#default value of C: 1\n",
    "#initial proposed trial Cs: [0.01,0.1,0.5,1,2,10]\n",
    "#follow-up Cs: [?, ?, 100] - depending on results\n",
    "\n",
    "def SVM_tuning(X,Y,reg_param):\n",
    "    const_n = 60000-10000\n",
    "    tr_acc_list, va_acc_list = [],[]\n",
    "    for c in reg_param:\n",
    "        print(c)\n",
    "        model = svm.LinearSVC(C=c)\n",
    "        tr_acc, va_acc = SVM_validate_loop(model,X,Y,np.array([const_n]))\n",
    "        tr_acc_list.append(tr_acc[0])\n",
    "        va_acc_list.append(va_acc[0])\n",
    "    return tr_acc_list, va_acc_list"
   ]
  },
  {
   "cell_type": "code",
   "execution_count": 113,
   "metadata": {},
   "outputs": [
    {
     "name": "stdout",
     "output_type": "stream",
     "text": [
      "0.01\n"
     ]
    },
    {
     "name": "stderr",
     "output_type": "stream",
     "text": [
      "c:\\Users\\zacha\\anaconda3\\Lib\\site-packages\\sklearn\\svm\\_classes.py:32: FutureWarning: The default value of `dual` will change from `True` to `'auto'` in 1.5. Set the value of `dual` explicitly to suppress the warning.\n",
      "  warnings.warn(\n"
     ]
    },
    {
     "name": "stdout",
     "output_type": "stream",
     "text": [
      "0.1\n"
     ]
    },
    {
     "name": "stderr",
     "output_type": "stream",
     "text": [
      "c:\\Users\\zacha\\anaconda3\\Lib\\site-packages\\sklearn\\svm\\_classes.py:32: FutureWarning: The default value of `dual` will change from `True` to `'auto'` in 1.5. Set the value of `dual` explicitly to suppress the warning.\n",
      "  warnings.warn(\n"
     ]
    },
    {
     "name": "stdout",
     "output_type": "stream",
     "text": [
      "0.5\n"
     ]
    },
    {
     "name": "stderr",
     "output_type": "stream",
     "text": [
      "c:\\Users\\zacha\\anaconda3\\Lib\\site-packages\\sklearn\\svm\\_classes.py:32: FutureWarning: The default value of `dual` will change from `True` to `'auto'` in 1.5. Set the value of `dual` explicitly to suppress the warning.\n",
      "  warnings.warn(\n"
     ]
    },
    {
     "name": "stdout",
     "output_type": "stream",
     "text": [
      "1\n"
     ]
    },
    {
     "name": "stderr",
     "output_type": "stream",
     "text": [
      "c:\\Users\\zacha\\anaconda3\\Lib\\site-packages\\sklearn\\svm\\_classes.py:32: FutureWarning: The default value of `dual` will change from `True` to `'auto'` in 1.5. Set the value of `dual` explicitly to suppress the warning.\n",
      "  warnings.warn(\n"
     ]
    },
    {
     "name": "stdout",
     "output_type": "stream",
     "text": [
      "10\n"
     ]
    },
    {
     "name": "stderr",
     "output_type": "stream",
     "text": [
      "c:\\Users\\zacha\\anaconda3\\Lib\\site-packages\\sklearn\\svm\\_classes.py:32: FutureWarning: The default value of `dual` will change from `True` to `'auto'` in 1.5. Set the value of `dual` explicitly to suppress the warning.\n",
      "  warnings.warn(\n"
     ]
    },
    {
     "name": "stdout",
     "output_type": "stream",
     "text": [
      "50\n"
     ]
    },
    {
     "name": "stderr",
     "output_type": "stream",
     "text": [
      "c:\\Users\\zacha\\anaconda3\\Lib\\site-packages\\sklearn\\svm\\_classes.py:32: FutureWarning: The default value of `dual` will change from `True` to `'auto'` in 1.5. Set the value of `dual` explicitly to suppress the warning.\n",
      "  warnings.warn(\n",
      "c:\\Users\\zacha\\anaconda3\\Lib\\site-packages\\sklearn\\svm\\_base.py:1242: ConvergenceWarning: Liblinear failed to converge, increase the number of iterations.\n",
      "  warnings.warn(\n"
     ]
    },
    {
     "name": "stdout",
     "output_type": "stream",
     "text": [
      "100\n"
     ]
    },
    {
     "name": "stderr",
     "output_type": "stream",
     "text": [
      "c:\\Users\\zacha\\anaconda3\\Lib\\site-packages\\sklearn\\svm\\_classes.py:32: FutureWarning: The default value of `dual` will change from `True` to `'auto'` in 1.5. Set the value of `dual` explicitly to suppress the warning.\n",
      "  warnings.warn(\n",
      "c:\\Users\\zacha\\anaconda3\\Lib\\site-packages\\sklearn\\svm\\_base.py:1242: ConvergenceWarning: Liblinear failed to converge, increase the number of iterations.\n",
      "  warnings.warn(\n"
     ]
    },
    {
     "name": "stdout",
     "output_type": "stream",
     "text": [
      "1000\n"
     ]
    },
    {
     "name": "stderr",
     "output_type": "stream",
     "text": [
      "c:\\Users\\zacha\\anaconda3\\Lib\\site-packages\\sklearn\\svm\\_classes.py:32: FutureWarning: The default value of `dual` will change from `True` to `'auto'` in 1.5. Set the value of `dual` explicitly to suppress the warning.\n",
      "  warnings.warn(\n",
      "c:\\Users\\zacha\\anaconda3\\Lib\\site-packages\\sklearn\\svm\\_base.py:1242: ConvergenceWarning: Liblinear failed to converge, increase the number of iterations.\n",
      "  warnings.warn(\n"
     ]
    },
    {
     "name": "stdout",
     "output_type": "stream",
     "text": [
      "0.01 0.2071 0.19912\n",
      "0.1 0.6206 0.61016\n",
      "0.5 0.7486 0.74624\n",
      "1 0.7852 0.76606\n",
      "10 0.8668 0.86072\n",
      "50 0.8943 0.88692\n",
      "100 0.9082 0.89186\n",
      "1000 0.9181 0.89582\n"
     ]
    }
   ],
   "source": [
    "initial_Cs = [0.01,0.1,0.5,1,10,50,100,1000]\n",
    "\n",
    "tr_C, va_C = SVM_tuning(mn_tr_raw,mn_label,initial_Cs)\n",
    "for i in range(len(initial_Cs)):\n",
    "    print(initial_Cs[i],tr_C[i],va_C[i])"
   ]
  },
  {
   "cell_type": "markdown",
   "metadata": {},
   "source": [
    "0.01 0.2071 0.19912\n",
    "0.1 0.6206 0.61016\n",
    "0.5 0.7486 0.74624\n",
    "1 0.7852 0.76606\n",
    "10 0.8668 0.86072\n",
    "50 0.8943 0.88692\n",
    "100 0.9082 0.89186\n",
    "1000 0.9181 0.89582"
   ]
  },
  {
   "cell_type": "markdown",
   "metadata": {},
   "source": [
    "Surprisingly, we see monotonic improvement with higher C, suggesting that more regularization leads to better performance on not only the validation set, but the training set as well.  Worth noting that the time required for higher regularizations increases substantially, from almost instant at C=.01 to taking tens of seconds by C=1000.\n",
    "\n",
    "In fact, the algorithm often fails to converge starting from C in [50,100] interval.  Even though results are improving, this could be because the training is taking many more steps to converge.  Further experimentation with higher C seems counterproductive."
   ]
  },
  {
   "cell_type": "markdown",
   "metadata": {},
   "source": [
    "5.  K-Fold Cross-Validation\n",
    "For smaller datasets (e.g., the spam dataset), the validation set contains fewer examples, and our\n",
    "estimate of our accuracy might not be accurate—the estimate has high variance. A way to combat\n",
    "this is to use k-fold cross-validation.\n",
    "\n",
    "Use of automatic cross-validation libraries is prohibited for this part of the homework.\n",
    "\n",
    "Deliverable: For the spam dataset, use 5-fold cross-validation to find and report the best C value.\n",
    "In your report, list at least 8 C values you tried, the corresponding accuracies, and the best C value.\n",
    "Again, please include your code for cross validation or include a reference to its location in your\n",
    "code appendix"
   ]
  },
  {
   "cell_type": "code",
   "execution_count": 179,
   "metadata": {},
   "outputs": [],
   "source": [
    "#total training samples: 4172\n",
    "#5-fold partitioning: 834, 834, 834, 835, 835\n",
    "def data_fold(X,Y,indexes, i):\n",
    "    m = [0, 834, 1668, 2503, 3338] # loop to evaluate validation score 5 times\n",
    "    n = [834,1668,2503,3338,4172]\n",
    "    k = len(m) # k = 4\n",
    "\n",
    "    a = m[i]\n",
    "    b = n[i]\n",
    "\n",
    "    td_ix = []\n",
    "    tl_ix = []\n",
    "\n",
    "    if i != 0:\n",
    "        td_ix = indexes[:a]\n",
    "        tl_ix = indexes[:a]\n",
    "    if i != k:\n",
    "        if i == 0:\n",
    "            td_ix = indexes[b:]\n",
    "            tl_ix = indexes[b:]\n",
    "        else:\n",
    "            td_ix = [*td_ix, *indexes[b:]] #PEP448 list addition, Python3.5\n",
    "            tl_ix = [*tl_ix, *indexes[b:]]\n",
    "\n",
    "    return X[td_ix],Y[tl_ix],X[indexes[a:b]],Y[indexes[a:b]]  #k x (834xd) arrays of data\n",
    "\n",
    "def KFoldCV(X,Y,reg_param):\n",
    "    rng = np.random.default_rng() #can use seed= for reproducible results\n",
    "    k = 5\n",
    "\n",
    "    indexes = np.arange(Y.shape[0])\n",
    "    rng.shuffle(indexes)\n",
    "\n",
    "    tr_acc, va_acc = [], []\n",
    "\n",
    "\n",
    "    for c in reg_param:\n",
    "        for i in range(k):\n",
    "            td,tl,vd,vl = data_fold(X,Y,indexes,i)\n",
    "            model = svm.LinearSVC(C=c)\n",
    "            model.fit(td,tl) #fit\n",
    "            yhat = model.predict(td)\n",
    "            tr_acc.append(accuracy_score(yhat,tl)) #training accuracy\n",
    "            yhat = model.predict(vd)\n",
    "            va_acc.append(accuracy_score(yhat,vl)) #validation accuracy\n",
    "            print(c, \"fold #\", i, va_acc[-1])\n",
    "\n",
    "        if c == reg_param[0]:\n",
    "            tr_acc_list = np.array([tr_acc])\n",
    "            va_acc_list = np.array([va_acc])\n",
    "        else:\n",
    "            tr_acc_list = np.vstack((tr_acc_list,np.array([tr_acc])))\n",
    "            va_acc_list = np.vstack((va_acc_list,np.array([va_acc])))\n",
    "        print(va_acc_list)\n",
    "        tr_acc = []\n",
    "        va_acc = []\n",
    "    return tr_acc_list, va_acc_list\n",
    "\n",
    "spam_Cs = [0.01,0.1,0.5,1,10,100,1000,10000]"
   ]
  },
  {
   "cell_type": "code",
   "execution_count": 181,
   "metadata": {},
   "outputs": [
    {
     "name": "stderr",
     "output_type": "stream",
     "text": [
      "c:\\Users\\zacha\\anaconda3\\Lib\\site-packages\\sklearn\\svm\\_classes.py:32: FutureWarning: The default value of `dual` will change from `True` to `'auto'` in 1.5. Set the value of `dual` explicitly to suppress the warning.\n",
      "  warnings.warn(\n",
      "c:\\Users\\zacha\\anaconda3\\Lib\\site-packages\\sklearn\\svm\\_base.py:1242: ConvergenceWarning: Liblinear failed to converge, increase the number of iterations.\n",
      "  warnings.warn(\n",
      "c:\\Users\\zacha\\anaconda3\\Lib\\site-packages\\sklearn\\svm\\_classes.py:32: FutureWarning: The default value of `dual` will change from `True` to `'auto'` in 1.5. Set the value of `dual` explicitly to suppress the warning.\n",
      "  warnings.warn(\n",
      "c:\\Users\\zacha\\anaconda3\\Lib\\site-packages\\sklearn\\svm\\_base.py:1242: ConvergenceWarning: Liblinear failed to converge, increase the number of iterations.\n",
      "  warnings.warn(\n",
      "c:\\Users\\zacha\\anaconda3\\Lib\\site-packages\\sklearn\\svm\\_classes.py:32: FutureWarning: The default value of `dual` will change from `True` to `'auto'` in 1.5. Set the value of `dual` explicitly to suppress the warning.\n",
      "  warnings.warn(\n"
     ]
    },
    {
     "name": "stdout",
     "output_type": "stream",
     "text": [
      "0.01 fold # 0 0.8033573141486811\n",
      "0.01 fold # 1 0.7913669064748201\n"
     ]
    },
    {
     "name": "stderr",
     "output_type": "stream",
     "text": [
      "c:\\Users\\zacha\\anaconda3\\Lib\\site-packages\\sklearn\\svm\\_base.py:1242: ConvergenceWarning: Liblinear failed to converge, increase the number of iterations.\n",
      "  warnings.warn(\n",
      "c:\\Users\\zacha\\anaconda3\\Lib\\site-packages\\sklearn\\svm\\_classes.py:32: FutureWarning: The default value of `dual` will change from `True` to `'auto'` in 1.5. Set the value of `dual` explicitly to suppress the warning.\n",
      "  warnings.warn(\n",
      "c:\\Users\\zacha\\anaconda3\\Lib\\site-packages\\sklearn\\svm\\_classes.py:32: FutureWarning: The default value of `dual` will change from `True` to `'auto'` in 1.5. Set the value of `dual` explicitly to suppress the warning.\n",
      "  warnings.warn(\n",
      "c:\\Users\\zacha\\anaconda3\\Lib\\site-packages\\sklearn\\svm\\_base.py:1242: ConvergenceWarning: Liblinear failed to converge, increase the number of iterations.\n",
      "  warnings.warn(\n",
      "c:\\Users\\zacha\\anaconda3\\Lib\\site-packages\\sklearn\\svm\\_classes.py:32: FutureWarning: The default value of `dual` will change from `True` to `'auto'` in 1.5. Set the value of `dual` explicitly to suppress the warning.\n",
      "  warnings.warn(\n",
      "c:\\Users\\zacha\\anaconda3\\Lib\\site-packages\\sklearn\\svm\\_base.py:1242: ConvergenceWarning: Liblinear failed to converge, increase the number of iterations.\n",
      "  warnings.warn(\n",
      "c:\\Users\\zacha\\anaconda3\\Lib\\site-packages\\sklearn\\svm\\_classes.py:32: FutureWarning: The default value of `dual` will change from `True` to `'auto'` in 1.5. Set the value of `dual` explicitly to suppress the warning.\n",
      "  warnings.warn(\n"
     ]
    },
    {
     "name": "stdout",
     "output_type": "stream",
     "text": [
      "0.01 fold # 2 0.7904191616766467\n",
      "0.01 fold # 3 0.8\n",
      "0.01 fold # 4 0.802158273381295\n",
      "[[0.80335731 0.79136691 0.79041916 0.8        0.80215827]]\n",
      "0.1 fold # 0 0.8045563549160671\n"
     ]
    },
    {
     "name": "stderr",
     "output_type": "stream",
     "text": [
      "c:\\Users\\zacha\\anaconda3\\Lib\\site-packages\\sklearn\\svm\\_base.py:1242: ConvergenceWarning: Liblinear failed to converge, increase the number of iterations.\n",
      "  warnings.warn(\n",
      "c:\\Users\\zacha\\anaconda3\\Lib\\site-packages\\sklearn\\svm\\_classes.py:32: FutureWarning: The default value of `dual` will change from `True` to `'auto'` in 1.5. Set the value of `dual` explicitly to suppress the warning.\n",
      "  warnings.warn(\n",
      "c:\\Users\\zacha\\anaconda3\\Lib\\site-packages\\sklearn\\svm\\_base.py:1242: ConvergenceWarning: Liblinear failed to converge, increase the number of iterations.\n",
      "  warnings.warn(\n",
      "c:\\Users\\zacha\\anaconda3\\Lib\\site-packages\\sklearn\\svm\\_classes.py:32: FutureWarning: The default value of `dual` will change from `True` to `'auto'` in 1.5. Set the value of `dual` explicitly to suppress the warning.\n",
      "  warnings.warn(\n",
      "c:\\Users\\zacha\\anaconda3\\Lib\\site-packages\\sklearn\\svm\\_base.py:1242: ConvergenceWarning: Liblinear failed to converge, increase the number of iterations.\n",
      "  warnings.warn(\n",
      "c:\\Users\\zacha\\anaconda3\\Lib\\site-packages\\sklearn\\svm\\_classes.py:32: FutureWarning: The default value of `dual` will change from `True` to `'auto'` in 1.5. Set the value of `dual` explicitly to suppress the warning.\n",
      "  warnings.warn(\n"
     ]
    },
    {
     "name": "stdout",
     "output_type": "stream",
     "text": [
      "0.1 fold # 1 0.7949640287769785\n",
      "0.1 fold # 2 0.7988023952095809\n",
      "0.1 fold # 3 0.8\n"
     ]
    },
    {
     "name": "stderr",
     "output_type": "stream",
     "text": [
      "c:\\Users\\zacha\\anaconda3\\Lib\\site-packages\\sklearn\\svm\\_base.py:1242: ConvergenceWarning: Liblinear failed to converge, increase the number of iterations.\n",
      "  warnings.warn(\n",
      "c:\\Users\\zacha\\anaconda3\\Lib\\site-packages\\sklearn\\svm\\_classes.py:32: FutureWarning: The default value of `dual` will change from `True` to `'auto'` in 1.5. Set the value of `dual` explicitly to suppress the warning.\n",
      "  warnings.warn(\n",
      "c:\\Users\\zacha\\anaconda3\\Lib\\site-packages\\sklearn\\svm\\_base.py:1242: ConvergenceWarning: Liblinear failed to converge, increase the number of iterations.\n",
      "  warnings.warn(\n",
      "c:\\Users\\zacha\\anaconda3\\Lib\\site-packages\\sklearn\\svm\\_classes.py:32: FutureWarning: The default value of `dual` will change from `True` to `'auto'` in 1.5. Set the value of `dual` explicitly to suppress the warning.\n",
      "  warnings.warn(\n",
      "c:\\Users\\zacha\\anaconda3\\Lib\\site-packages\\sklearn\\svm\\_base.py:1242: ConvergenceWarning: Liblinear failed to converge, increase the number of iterations.\n",
      "  warnings.warn(\n",
      "c:\\Users\\zacha\\anaconda3\\Lib\\site-packages\\sklearn\\svm\\_classes.py:32: FutureWarning: The default value of `dual` will change from `True` to `'auto'` in 1.5. Set the value of `dual` explicitly to suppress the warning.\n",
      "  warnings.warn(\n"
     ]
    },
    {
     "name": "stdout",
     "output_type": "stream",
     "text": [
      "0.1 fold # 4 0.8105515587529976\n",
      "[[0.80335731 0.79136691 0.79041916 0.8        0.80215827]\n",
      " [0.80455635 0.79496403 0.7988024  0.8        0.81055156]]\n",
      "0.5 fold # 0 0.8129496402877698\n",
      "0.5 fold # 1 0.7985611510791367\n"
     ]
    },
    {
     "name": "stderr",
     "output_type": "stream",
     "text": [
      "c:\\Users\\zacha\\anaconda3\\Lib\\site-packages\\sklearn\\svm\\_base.py:1242: ConvergenceWarning: Liblinear failed to converge, increase the number of iterations.\n",
      "  warnings.warn(\n",
      "c:\\Users\\zacha\\anaconda3\\Lib\\site-packages\\sklearn\\svm\\_classes.py:32: FutureWarning: The default value of `dual` will change from `True` to `'auto'` in 1.5. Set the value of `dual` explicitly to suppress the warning.\n",
      "  warnings.warn(\n",
      "c:\\Users\\zacha\\anaconda3\\Lib\\site-packages\\sklearn\\svm\\_base.py:1242: ConvergenceWarning: Liblinear failed to converge, increase the number of iterations.\n",
      "  warnings.warn(\n",
      "c:\\Users\\zacha\\anaconda3\\Lib\\site-packages\\sklearn\\svm\\_classes.py:32: FutureWarning: The default value of `dual` will change from `True` to `'auto'` in 1.5. Set the value of `dual` explicitly to suppress the warning.\n",
      "  warnings.warn(\n",
      "c:\\Users\\zacha\\anaconda3\\Lib\\site-packages\\sklearn\\svm\\_base.py:1242: ConvergenceWarning: Liblinear failed to converge, increase the number of iterations.\n",
      "  warnings.warn(\n",
      "c:\\Users\\zacha\\anaconda3\\Lib\\site-packages\\sklearn\\svm\\_classes.py:32: FutureWarning: The default value of `dual` will change from `True` to `'auto'` in 1.5. Set the value of `dual` explicitly to suppress the warning.\n",
      "  warnings.warn(\n"
     ]
    },
    {
     "name": "stdout",
     "output_type": "stream",
     "text": [
      "0.5 fold # 2 0.8035928143712575\n",
      "0.5 fold # 3 0.8\n",
      "0.5 fold # 4 0.8141486810551559\n",
      "[[0.80335731 0.79136691 0.79041916 0.8        0.80215827]\n",
      " [0.80455635 0.79496403 0.7988024  0.8        0.81055156]\n",
      " [0.81294964 0.79856115 0.80359281 0.8        0.81414868]]\n"
     ]
    },
    {
     "name": "stderr",
     "output_type": "stream",
     "text": [
      "c:\\Users\\zacha\\anaconda3\\Lib\\site-packages\\sklearn\\svm\\_base.py:1242: ConvergenceWarning: Liblinear failed to converge, increase the number of iterations.\n",
      "  warnings.warn(\n",
      "c:\\Users\\zacha\\anaconda3\\Lib\\site-packages\\sklearn\\svm\\_classes.py:32: FutureWarning: The default value of `dual` will change from `True` to `'auto'` in 1.5. Set the value of `dual` explicitly to suppress the warning.\n",
      "  warnings.warn(\n",
      "c:\\Users\\zacha\\anaconda3\\Lib\\site-packages\\sklearn\\svm\\_base.py:1242: ConvergenceWarning: Liblinear failed to converge, increase the number of iterations.\n",
      "  warnings.warn(\n",
      "c:\\Users\\zacha\\anaconda3\\Lib\\site-packages\\sklearn\\svm\\_classes.py:32: FutureWarning: The default value of `dual` will change from `True` to `'auto'` in 1.5. Set the value of `dual` explicitly to suppress the warning.\n",
      "  warnings.warn(\n",
      "c:\\Users\\zacha\\anaconda3\\Lib\\site-packages\\sklearn\\svm\\_base.py:1242: ConvergenceWarning: Liblinear failed to converge, increase the number of iterations.\n",
      "  warnings.warn(\n",
      "c:\\Users\\zacha\\anaconda3\\Lib\\site-packages\\sklearn\\svm\\_classes.py:32: FutureWarning: The default value of `dual` will change from `True` to `'auto'` in 1.5. Set the value of `dual` explicitly to suppress the warning.\n",
      "  warnings.warn(\n"
     ]
    },
    {
     "name": "stdout",
     "output_type": "stream",
     "text": [
      "1 fold # 0 0.8189448441247003\n",
      "1 fold # 1 0.7961630695443646\n",
      "1 fold # 2 0.8011976047904191\n"
     ]
    },
    {
     "name": "stderr",
     "output_type": "stream",
     "text": [
      "c:\\Users\\zacha\\anaconda3\\Lib\\site-packages\\sklearn\\svm\\_base.py:1242: ConvergenceWarning: Liblinear failed to converge, increase the number of iterations.\n",
      "  warnings.warn(\n",
      "c:\\Users\\zacha\\anaconda3\\Lib\\site-packages\\sklearn\\svm\\_classes.py:32: FutureWarning: The default value of `dual` will change from `True` to `'auto'` in 1.5. Set the value of `dual` explicitly to suppress the warning.\n",
      "  warnings.warn(\n",
      "c:\\Users\\zacha\\anaconda3\\Lib\\site-packages\\sklearn\\svm\\_base.py:1242: ConvergenceWarning: Liblinear failed to converge, increase the number of iterations.\n",
      "  warnings.warn(\n",
      "c:\\Users\\zacha\\anaconda3\\Lib\\site-packages\\sklearn\\svm\\_classes.py:32: FutureWarning: The default value of `dual` will change from `True` to `'auto'` in 1.5. Set the value of `dual` explicitly to suppress the warning.\n",
      "  warnings.warn(\n",
      "c:\\Users\\zacha\\anaconda3\\Lib\\site-packages\\sklearn\\svm\\_base.py:1242: ConvergenceWarning: Liblinear failed to converge, increase the number of iterations.\n",
      "  warnings.warn(\n",
      "c:\\Users\\zacha\\anaconda3\\Lib\\site-packages\\sklearn\\svm\\_classes.py:32: FutureWarning: The default value of `dual` will change from `True` to `'auto'` in 1.5. Set the value of `dual` explicitly to suppress the warning.\n",
      "  warnings.warn(\n"
     ]
    },
    {
     "name": "stdout",
     "output_type": "stream",
     "text": [
      "1 fold # 3 0.8035928143712575\n",
      "1 fold # 4 0.8105515587529976\n",
      "[[0.80335731 0.79136691 0.79041916 0.8        0.80215827]\n",
      " [0.80455635 0.79496403 0.7988024  0.8        0.81055156]\n",
      " [0.81294964 0.79856115 0.80359281 0.8        0.81414868]\n",
      " [0.81894484 0.79616307 0.8011976  0.80359281 0.81055156]]\n",
      "10 fold # 0 0.8105515587529976\n"
     ]
    },
    {
     "name": "stderr",
     "output_type": "stream",
     "text": [
      "c:\\Users\\zacha\\anaconda3\\Lib\\site-packages\\sklearn\\svm\\_base.py:1242: ConvergenceWarning: Liblinear failed to converge, increase the number of iterations.\n",
      "  warnings.warn(\n",
      "c:\\Users\\zacha\\anaconda3\\Lib\\site-packages\\sklearn\\svm\\_classes.py:32: FutureWarning: The default value of `dual` will change from `True` to `'auto'` in 1.5. Set the value of `dual` explicitly to suppress the warning.\n",
      "  warnings.warn(\n",
      "c:\\Users\\zacha\\anaconda3\\Lib\\site-packages\\sklearn\\svm\\_base.py:1242: ConvergenceWarning: Liblinear failed to converge, increase the number of iterations.\n",
      "  warnings.warn(\n",
      "c:\\Users\\zacha\\anaconda3\\Lib\\site-packages\\sklearn\\svm\\_classes.py:32: FutureWarning: The default value of `dual` will change from `True` to `'auto'` in 1.5. Set the value of `dual` explicitly to suppress the warning.\n",
      "  warnings.warn(\n",
      "c:\\Users\\zacha\\anaconda3\\Lib\\site-packages\\sklearn\\svm\\_base.py:1242: ConvergenceWarning: Liblinear failed to converge, increase the number of iterations.\n",
      "  warnings.warn(\n",
      "c:\\Users\\zacha\\anaconda3\\Lib\\site-packages\\sklearn\\svm\\_classes.py:32: FutureWarning: The default value of `dual` will change from `True` to `'auto'` in 1.5. Set the value of `dual` explicitly to suppress the warning.\n",
      "  warnings.warn(\n"
     ]
    },
    {
     "name": "stdout",
     "output_type": "stream",
     "text": [
      "10 fold # 1 0.8057553956834532\n",
      "10 fold # 2 0.8047904191616766\n",
      "10 fold # 3 0.8095808383233533\n"
     ]
    },
    {
     "name": "stderr",
     "output_type": "stream",
     "text": [
      "c:\\Users\\zacha\\anaconda3\\Lib\\site-packages\\sklearn\\svm\\_base.py:1242: ConvergenceWarning: Liblinear failed to converge, increase the number of iterations.\n",
      "  warnings.warn(\n",
      "c:\\Users\\zacha\\anaconda3\\Lib\\site-packages\\sklearn\\svm\\_classes.py:32: FutureWarning: The default value of `dual` will change from `True` to `'auto'` in 1.5. Set the value of `dual` explicitly to suppress the warning.\n",
      "  warnings.warn(\n",
      "c:\\Users\\zacha\\anaconda3\\Lib\\site-packages\\sklearn\\svm\\_base.py:1242: ConvergenceWarning: Liblinear failed to converge, increase the number of iterations.\n",
      "  warnings.warn(\n",
      "c:\\Users\\zacha\\anaconda3\\Lib\\site-packages\\sklearn\\svm\\_classes.py:32: FutureWarning: The default value of `dual` will change from `True` to `'auto'` in 1.5. Set the value of `dual` explicitly to suppress the warning.\n",
      "  warnings.warn(\n",
      "c:\\Users\\zacha\\anaconda3\\Lib\\site-packages\\sklearn\\svm\\_base.py:1242: ConvergenceWarning: Liblinear failed to converge, increase the number of iterations.\n",
      "  warnings.warn(\n",
      "c:\\Users\\zacha\\anaconda3\\Lib\\site-packages\\sklearn\\svm\\_classes.py:32: FutureWarning: The default value of `dual` will change from `True` to `'auto'` in 1.5. Set the value of `dual` explicitly to suppress the warning.\n",
      "  warnings.warn(\n"
     ]
    },
    {
     "name": "stdout",
     "output_type": "stream",
     "text": [
      "10 fold # 4 0.8129496402877698\n",
      "[[0.80335731 0.79136691 0.79041916 0.8        0.80215827]\n",
      " [0.80455635 0.79496403 0.7988024  0.8        0.81055156]\n",
      " [0.81294964 0.79856115 0.80359281 0.8        0.81414868]\n",
      " [0.81894484 0.79616307 0.8011976  0.80359281 0.81055156]\n",
      " [0.81055156 0.8057554  0.80479042 0.80958084 0.81294964]]\n",
      "100 fold # 0 0.7949640287769785\n",
      "100 fold # 1 0.8033573141486811\n"
     ]
    },
    {
     "name": "stderr",
     "output_type": "stream",
     "text": [
      "c:\\Users\\zacha\\anaconda3\\Lib\\site-packages\\sklearn\\svm\\_base.py:1242: ConvergenceWarning: Liblinear failed to converge, increase the number of iterations.\n",
      "  warnings.warn(\n",
      "c:\\Users\\zacha\\anaconda3\\Lib\\site-packages\\sklearn\\svm\\_classes.py:32: FutureWarning: The default value of `dual` will change from `True` to `'auto'` in 1.5. Set the value of `dual` explicitly to suppress the warning.\n",
      "  warnings.warn(\n",
      "c:\\Users\\zacha\\anaconda3\\Lib\\site-packages\\sklearn\\svm\\_base.py:1242: ConvergenceWarning: Liblinear failed to converge, increase the number of iterations.\n",
      "  warnings.warn(\n",
      "c:\\Users\\zacha\\anaconda3\\Lib\\site-packages\\sklearn\\svm\\_classes.py:32: FutureWarning: The default value of `dual` will change from `True` to `'auto'` in 1.5. Set the value of `dual` explicitly to suppress the warning.\n",
      "  warnings.warn(\n",
      "c:\\Users\\zacha\\anaconda3\\Lib\\site-packages\\sklearn\\svm\\_base.py:1242: ConvergenceWarning: Liblinear failed to converge, increase the number of iterations.\n",
      "  warnings.warn(\n",
      "c:\\Users\\zacha\\anaconda3\\Lib\\site-packages\\sklearn\\svm\\_classes.py:32: FutureWarning: The default value of `dual` will change from `True` to `'auto'` in 1.5. Set the value of `dual` explicitly to suppress the warning.\n",
      "  warnings.warn(\n"
     ]
    },
    {
     "name": "stdout",
     "output_type": "stream",
     "text": [
      "100 fold # 2 0.8287425149700599\n",
      "100 fold # 3 0.8083832335329342\n",
      "100 fold # 4 0.7961630695443646\n",
      "[[0.80335731 0.79136691 0.79041916 0.8        0.80215827]\n",
      " [0.80455635 0.79496403 0.7988024  0.8        0.81055156]\n",
      " [0.81294964 0.79856115 0.80359281 0.8        0.81414868]\n",
      " [0.81894484 0.79616307 0.8011976  0.80359281 0.81055156]\n",
      " [0.81055156 0.8057554  0.80479042 0.80958084 0.81294964]\n",
      " [0.79496403 0.80335731 0.82874251 0.80838323 0.79616307]]\n"
     ]
    },
    {
     "name": "stderr",
     "output_type": "stream",
     "text": [
      "c:\\Users\\zacha\\anaconda3\\Lib\\site-packages\\sklearn\\svm\\_base.py:1242: ConvergenceWarning: Liblinear failed to converge, increase the number of iterations.\n",
      "  warnings.warn(\n",
      "c:\\Users\\zacha\\anaconda3\\Lib\\site-packages\\sklearn\\svm\\_classes.py:32: FutureWarning: The default value of `dual` will change from `True` to `'auto'` in 1.5. Set the value of `dual` explicitly to suppress the warning.\n",
      "  warnings.warn(\n",
      "c:\\Users\\zacha\\anaconda3\\Lib\\site-packages\\sklearn\\svm\\_base.py:1242: ConvergenceWarning: Liblinear failed to converge, increase the number of iterations.\n",
      "  warnings.warn(\n",
      "c:\\Users\\zacha\\anaconda3\\Lib\\site-packages\\sklearn\\svm\\_classes.py:32: FutureWarning: The default value of `dual` will change from `True` to `'auto'` in 1.5. Set the value of `dual` explicitly to suppress the warning.\n",
      "  warnings.warn(\n",
      "c:\\Users\\zacha\\anaconda3\\Lib\\site-packages\\sklearn\\svm\\_base.py:1242: ConvergenceWarning: Liblinear failed to converge, increase the number of iterations.\n",
      "  warnings.warn(\n",
      "c:\\Users\\zacha\\anaconda3\\Lib\\site-packages\\sklearn\\svm\\_classes.py:32: FutureWarning: The default value of `dual` will change from `True` to `'auto'` in 1.5. Set the value of `dual` explicitly to suppress the warning.\n",
      "  warnings.warn(\n"
     ]
    },
    {
     "name": "stdout",
     "output_type": "stream",
     "text": [
      "1000 fold # 0 0.7961630695443646\n",
      "1000 fold # 1 0.7338129496402878\n",
      "1000 fold # 2 0.7856287425149701\n"
     ]
    },
    {
     "name": "stderr",
     "output_type": "stream",
     "text": [
      "c:\\Users\\zacha\\anaconda3\\Lib\\site-packages\\sklearn\\svm\\_base.py:1242: ConvergenceWarning: Liblinear failed to converge, increase the number of iterations.\n",
      "  warnings.warn(\n",
      "c:\\Users\\zacha\\anaconda3\\Lib\\site-packages\\sklearn\\svm\\_classes.py:32: FutureWarning: The default value of `dual` will change from `True` to `'auto'` in 1.5. Set the value of `dual` explicitly to suppress the warning.\n",
      "  warnings.warn(\n",
      "c:\\Users\\zacha\\anaconda3\\Lib\\site-packages\\sklearn\\svm\\_base.py:1242: ConvergenceWarning: Liblinear failed to converge, increase the number of iterations.\n",
      "  warnings.warn(\n",
      "c:\\Users\\zacha\\anaconda3\\Lib\\site-packages\\sklearn\\svm\\_classes.py:32: FutureWarning: The default value of `dual` will change from `True` to `'auto'` in 1.5. Set the value of `dual` explicitly to suppress the warning.\n",
      "  warnings.warn(\n",
      "c:\\Users\\zacha\\anaconda3\\Lib\\site-packages\\sklearn\\svm\\_base.py:1242: ConvergenceWarning: Liblinear failed to converge, increase the number of iterations.\n",
      "  warnings.warn(\n"
     ]
    },
    {
     "name": "stdout",
     "output_type": "stream",
     "text": [
      "1000 fold # 3 0.7712574850299401\n",
      "1000 fold # 4 0.7446043165467626\n",
      "[[0.80335731 0.79136691 0.79041916 0.8        0.80215827]\n",
      " [0.80455635 0.79496403 0.7988024  0.8        0.81055156]\n",
      " [0.81294964 0.79856115 0.80359281 0.8        0.81414868]\n",
      " [0.81894484 0.79616307 0.8011976  0.80359281 0.81055156]\n",
      " [0.81055156 0.8057554  0.80479042 0.80958084 0.81294964]\n",
      " [0.79496403 0.80335731 0.82874251 0.80838323 0.79616307]\n",
      " [0.79616307 0.73381295 0.78562874 0.77125749 0.74460432]]\n",
      "10000 fold # 0 0.7314148681055156\n"
     ]
    },
    {
     "name": "stderr",
     "output_type": "stream",
     "text": [
      "c:\\Users\\zacha\\anaconda3\\Lib\\site-packages\\sklearn\\svm\\_classes.py:32: FutureWarning: The default value of `dual` will change from `True` to `'auto'` in 1.5. Set the value of `dual` explicitly to suppress the warning.\n",
      "  warnings.warn(\n",
      "c:\\Users\\zacha\\anaconda3\\Lib\\site-packages\\sklearn\\svm\\_base.py:1242: ConvergenceWarning: Liblinear failed to converge, increase the number of iterations.\n",
      "  warnings.warn(\n",
      "c:\\Users\\zacha\\anaconda3\\Lib\\site-packages\\sklearn\\svm\\_classes.py:32: FutureWarning: The default value of `dual` will change from `True` to `'auto'` in 1.5. Set the value of `dual` explicitly to suppress the warning.\n",
      "  warnings.warn(\n"
     ]
    },
    {
     "name": "stdout",
     "output_type": "stream",
     "text": [
      "10000 fold # 1 0.7733812949640287\n",
      "10000 fold # 2 0.7772455089820359\n",
      "10000 fold # 3 0.7173652694610778\n"
     ]
    },
    {
     "name": "stderr",
     "output_type": "stream",
     "text": [
      "c:\\Users\\zacha\\anaconda3\\Lib\\site-packages\\sklearn\\svm\\_base.py:1242: ConvergenceWarning: Liblinear failed to converge, increase the number of iterations.\n",
      "  warnings.warn(\n",
      "c:\\Users\\zacha\\anaconda3\\Lib\\site-packages\\sklearn\\svm\\_classes.py:32: FutureWarning: The default value of `dual` will change from `True` to `'auto'` in 1.5. Set the value of `dual` explicitly to suppress the warning.\n",
      "  warnings.warn(\n",
      "c:\\Users\\zacha\\anaconda3\\Lib\\site-packages\\sklearn\\svm\\_base.py:1242: ConvergenceWarning: Liblinear failed to converge, increase the number of iterations.\n",
      "  warnings.warn(\n",
      "c:\\Users\\zacha\\anaconda3\\Lib\\site-packages\\sklearn\\svm\\_classes.py:32: FutureWarning: The default value of `dual` will change from `True` to `'auto'` in 1.5. Set the value of `dual` explicitly to suppress the warning.\n",
      "  warnings.warn(\n"
     ]
    },
    {
     "name": "stdout",
     "output_type": "stream",
     "text": [
      "10000 fold # 4 0.7829736211031175\n",
      "[[0.80335731 0.79136691 0.79041916 0.8        0.80215827]\n",
      " [0.80455635 0.79496403 0.7988024  0.8        0.81055156]\n",
      " [0.81294964 0.79856115 0.80359281 0.8        0.81414868]\n",
      " [0.81894484 0.79616307 0.8011976  0.80359281 0.81055156]\n",
      " [0.81055156 0.8057554  0.80479042 0.80958084 0.81294964]\n",
      " [0.79496403 0.80335731 0.82874251 0.80838323 0.79616307]\n",
      " [0.79616307 0.73381295 0.78562874 0.77125749 0.74460432]\n",
      " [0.73141487 0.77338129 0.77724551 0.71736527 0.78297362]]\n",
      "C of 0.01: mean validation accuracy 0.7974603311362886\n",
      "C of 0.1: mean validation accuracy 0.8017748675311248\n",
      "C of 0.5: mean validation accuracy 0.805850457358664\n",
      "C of 1: mean validation accuracy 0.8060899783167479\n",
      "C of 10: mean validation accuracy 0.8087255704418501\n",
      "C of 100: mean validation accuracy 0.8063220321946037\n",
      "C of 1000: mean validation accuracy 0.766293312655265\n",
      "C of 10000: mean validation accuracy 0.7564761125231552\n"
     ]
    },
    {
     "name": "stderr",
     "output_type": "stream",
     "text": [
      "c:\\Users\\zacha\\anaconda3\\Lib\\site-packages\\sklearn\\svm\\_base.py:1242: ConvergenceWarning: Liblinear failed to converge, increase the number of iterations.\n",
      "  warnings.warn(\n"
     ]
    }
   ],
   "source": [
    "spam_tr_list, spam_va_list = KFoldCV(sp_tr,sp_label, spam_Cs)\n",
    "means = np.mean(spam_va_list,axis=1)\n",
    "\n",
    "for i in range(spam_va_list.shape[0]):\n",
    "    print(f\"C of {spam_Cs[i]}: mean validation accuracy {means[i]}\")"
   ]
  },
  {
   "cell_type": "markdown",
   "metadata": {},
   "source": [
    "Results:\n",
    "\n",
    "C of 0.01: mean validation accuracy 0.7974603311362886\n",
    "C of 0.1: mean validation accuracy 0.8017748675311248\n",
    "C of 0.5: mean validation accuracy 0.805850457358664\n",
    "C of 1: mean validation accuracy 0.8060899783167479\n",
    "C of 10: mean validation accuracy 0.8087255704418501\n",
    "C of 100: mean validation accuracy 0.8063220321946037\n",
    "C of 1000: mean validation accuracy 0.766293312655265\n",
    "C of 10000: mean validation accuracy 0.7564761125231552\n",
    "\n",
    "After C~100, the accuracy starts to go down - seems to be because of convergence errors."
   ]
  }
 ],
 "metadata": {
  "kernelspec": {
   "display_name": "base",
   "language": "python",
   "name": "python3"
  },
  "language_info": {
   "codemirror_mode": {
    "name": "ipython",
    "version": 3
   },
   "file_extension": ".py",
   "mimetype": "text/x-python",
   "name": "python",
   "nbconvert_exporter": "python",
   "pygments_lexer": "ipython3",
   "version": "3.11.4"
  },
  "orig_nbformat": 4
 },
 "nbformat": 4,
 "nbformat_minor": 2
}
